{
 "cells": [
  {
   "cell_type": "code",
   "execution_count": 1,
   "metadata": {},
   "outputs": [
    {
     "name": "stdout",
     "output_type": "stream",
     "text": [
      "-------------------------------------------------------------------\n",
      "actual value              predicted value           correct/wrong            \n",
      "-------------------------------------------------------------------\n",
      "Iris-setosa               Iris-setosa               correct                  \n",
      "Iris-versicolor           Iris-versicolor           correct                  \n",
      "Iris-versicolor           Iris-versicolor           correct                  \n",
      "Iris-versicolor           Iris-versicolor           correct                  \n",
      "Iris-setosa               Iris-setosa               correct                  \n",
      "Iris-virginica            Iris-virginica            correct                  \n",
      "Iris-versicolor           Iris-versicolor           correct                  \n",
      "Iris-virginica            Iris-versicolor           wrong                    \n",
      "Iris-versicolor           Iris-virginica            wrong                    \n",
      "Iris-virginica            Iris-virginica            correct                  \n",
      "Iris-versicolor           Iris-versicolor           correct                  \n",
      "Iris-virginica            Iris-virginica            correct                  \n",
      "Iris-versicolor           Iris-versicolor           correct                  \n",
      "Iris-virginica            Iris-virginica            correct                  \n",
      "Iris-versicolor           Iris-versicolor           correct                  \n",
      "Iris-versicolor           Iris-versicolor           correct                  \n",
      "Iris-versicolor           Iris-versicolor           correct                  \n",
      "Iris-setosa               Iris-setosa               correct                  \n",
      "Iris-setosa               Iris-setosa               correct                  \n",
      "Iris-versicolor           Iris-versicolor           correct                  \n",
      "Iris-setosa               Iris-setosa               correct                  \n",
      "Iris-setosa               Iris-setosa               correct                  \n",
      "Iris-setosa               Iris-setosa               correct                  \n",
      "Iris-virginica            Iris-virginica            correct                  \n",
      "Iris-versicolor           Iris-versicolor           correct                  \n",
      "Iris-setosa               Iris-setosa               correct                  \n",
      "Iris-virginica            Iris-virginica            correct                  \n",
      "Iris-versicolor           Iris-versicolor           correct                  \n",
      "Iris-virginica            Iris-virginica            correct                  \n",
      "Iris-versicolor           Iris-versicolor           correct                  \n",
      "Accuracy score: 0.9333333333333333\n"
     ]
    }
   ],
   "source": [
    "from sklearn import metrics\n",
    "from sklearn.neighbors import KNeighborsClassifier\n",
    "from sklearn.model_selection import train_test_split\n",
    "import pandas as pd\n",
    "\n",
    "data=pd.read_csv('../lab8.csv')\n",
    "x=data.iloc[:,:-1]\n",
    "y=data.iloc[:,-1]\n",
    "\n",
    "xtrain,xtest,ytrain,ytest=train_test_split(x,y,test_size=0.2)\n",
    "knn=KNeighborsClassifier(n_neighbors=5)\n",
    "knn.fit(xtrain,ytrain)\n",
    "pred=knn.predict(xtest)\n",
    "\n",
    "print(\"-------------------------------------------------------------------\")\n",
    "print(\"%-25s %-25s %-25s\"%(\"actual value\",\"predicted value\",\"correct/wrong\"))\n",
    "print(\"-------------------------------------------------------------------\")\n",
    "\n",
    "i=0\n",
    "for x in ytest:\n",
    "    if x==pred[i]:\n",
    "        print(\"%-25s %-25s %-25s\"%(x,pred[i],\"correct\"))\n",
    "    else:                \n",
    "        print(\"%-25s %-25s %-25s\"%(x,pred[i],\"wrong\"))\n",
    "    i+=1\n",
    "\n",
    "print(\"Accuracy score:\",metrics.accuracy_score(pred,ytest))\n",
    "\n"
   ]
  }
 ],
 "metadata": {
  "interpreter": {
   "hash": "7f4850813c4f0ef5aeb287b6cd55218b48106b6d1432cc204eb5d2c6cab844e1"
  },
  "kernelspec": {
   "display_name": "Python 3.9.2 64-bit",
   "language": "python",
   "name": "python3"
  },
  "language_info": {
   "codemirror_mode": {
    "name": "ipython",
    "version": 3
   },
   "file_extension": ".py",
   "mimetype": "text/x-python",
   "name": "python",
   "nbconvert_exporter": "python",
   "pygments_lexer": "ipython3",
   "version": "3.9.2"
  },
  "orig_nbformat": 4
 },
 "nbformat": 4,
 "nbformat_minor": 2
}
