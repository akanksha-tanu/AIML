{
 "cells": [
  {
   "cell_type": "code",
   "execution_count": 2,
   "metadata": {},
   "outputs": [
    {
     "name": "stdout",
     "output_type": "stream",
     "text": [
      "path is : ['a', 'c', 'd']\n",
      "path is : ['a', 'c', 'd', 'f']\n"
     ]
    }
   ],
   "source": [
    "def heuristic(v):\n",
    "    hdist={\n",
    "        'a':2,\n",
    "        'b':5,\n",
    "        'c':3,\n",
    "        'd':5,\n",
    "        'e':1,\n",
    "        'f':0\n",
    "    }\n",
    "    return hdist[v]\n",
    "\n",
    "def getneighbours(v):\n",
    "    if v in graph:\n",
    "        return graph[v]\n",
    "    else:\n",
    "        return None\n",
    "\n",
    "def astar(start,stop):\n",
    "    openset=set(start)\n",
    "    closeset=set()\n",
    "    g={}\n",
    "    parent={}\n",
    "    g[start]=0\n",
    "    parent[start]=start\n",
    "    while(len(openset)>0):\n",
    "        n=None\n",
    "        for v in openset:\n",
    "            if n==None or g[v]+heuristic(v)<g[n]+heuristic(n):\n",
    "                n=v\n",
    "        for (m,weight) in getneighbours(n):\n",
    "            if m not in closeset and m not in openset:\n",
    "                g[m]=g[n]+weight\n",
    "                parent[m]=n\n",
    "                openset.add(m)\n",
    "            elif g[m]>g[n]+weight:\n",
    "                g[m]=g[n]+weight\n",
    "                parent[m]=n\n",
    "                if m in closeset:\n",
    "                    closeset.remove(m)\n",
    "                    openset.add(m)\n",
    "        if(n==stop):\n",
    "            path=[]\n",
    "            while parent[n]!=n:\n",
    "                path.append(n)\n",
    "                n=parent[n]\n",
    "            path.append(start)\n",
    "            path.reverse()\n",
    "            print(\"path is :\",path)\n",
    "            return\n",
    "        closeset.add(n)\n",
    "        openset.remove(n)\n",
    "    print(\"No path exists\")\n",
    "    return None\n",
    "\n",
    "graph={\n",
    "        'a':[('b',5),('c',3)],\n",
    "        'b':[('d',7)],\n",
    "        'c':[('d',4)],\n",
    "        'd':[('f',2)],\n",
    "        'e':[],\n",
    "        'f':[]\n",
    "    }\n",
    "astar('a','d')\n",
    "astar('a','f')"
   ]
  }
 ],
 "metadata": {
  "interpreter": {
   "hash": "7f4850813c4f0ef5aeb287b6cd55218b48106b6d1432cc204eb5d2c6cab844e1"
  },
  "kernelspec": {
   "display_name": "Python 3.9.2 64-bit",
   "language": "python",
   "name": "python3"
  },
  "language_info": {
   "codemirror_mode": {
    "name": "ipython",
    "version": 3
   },
   "file_extension": ".py",
   "mimetype": "text/x-python",
   "name": "python",
   "nbconvert_exporter": "python",
   "pygments_lexer": "ipython3",
   "version": "3.9.2"
  },
  "orig_nbformat": 4
 },
 "nbformat": 4,
 "nbformat_minor": 2
}
