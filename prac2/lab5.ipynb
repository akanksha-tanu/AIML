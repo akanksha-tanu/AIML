{
 "cells": [
  {
   "cell_type": "code",
   "execution_count": 5,
   "metadata": {},
   "outputs": [
    {
     "name": "stdout",
     "output_type": "stream",
     "text": [
      "Input:\n",
      " [[0.66666667 1.        ]\n",
      " [0.33333333 0.55555556]\n",
      " [1.         0.66666667]]\n",
      "output:\n",
      " [[0.92]\n",
      " [0.86]\n",
      " [0.89]]\n",
      "prediction:\n",
      " [[0.89802298]\n",
      " [0.87693922]\n",
      " [0.89420578]]\n"
     ]
    }
   ],
   "source": [
    "import numpy as np\n",
    "x=np.array(([2,9],[1,5],[3,6]),dtype=float)\n",
    "y=np.array(([92],[86],[89]),dtype=float)\n",
    "x=x/np.amax(x,axis=0)\n",
    "y=y/100\n",
    "\n",
    "def sigmoid(x):\n",
    "    return 1/(1+np.exp(-x))\n",
    "def der_sig(x):\n",
    "    return x*(1-x)\n",
    "\n",
    "epoch=7000\n",
    "lr=0.1\n",
    "o=1\n",
    "i=2\n",
    "h=3\n",
    "\n",
    "wh=np.random.uniform(size=(i,h))\n",
    "bh=np.random.uniform(size=(1,h))\n",
    "wout=np.random.uniform(size=(h,o))\n",
    "bout=np.random.uniform(size=(1,o))\n",
    "\n",
    "for i in range(epoch):\n",
    "    #forward propagation\n",
    "    hinp=np.dot(x,wh)\n",
    "    hin=hinp+bh\n",
    "    h_act=sigmoid(hin)\n",
    "    oinp=np.dot(h_act,wout)\n",
    "    oin=oinp+bout\n",
    "    out_act=sigmoid(oin)\n",
    "\n",
    "    #backward propagation\n",
    "    eo=y-out_act\n",
    "    ograd=der_sig(out_act)\n",
    "    d_output=eo*ograd\n",
    "    eh=d_output.dot(wout.T)\n",
    "    hgrad=der_sig(h_act)\n",
    "    d_hidden=eh*hgrad\n",
    "\n",
    "    wh+=x.T.dot(d_hidden)\n",
    "    wout+=h_act.T.dot(d_output)\n",
    "\n",
    "print(\"Input:\\n\",x)\n",
    "print(\"output:\\n\",y)\n",
    "print(\"prediction:\\n\",out_act)\n"
   ]
  }
 ],
 "metadata": {
  "interpreter": {
   "hash": "7f4850813c4f0ef5aeb287b6cd55218b48106b6d1432cc204eb5d2c6cab844e1"
  },
  "kernelspec": {
   "display_name": "Python 3.9.2 64-bit",
   "language": "python",
   "name": "python3"
  },
  "language_info": {
   "codemirror_mode": {
    "name": "ipython",
    "version": 3
   },
   "file_extension": ".py",
   "mimetype": "text/x-python",
   "name": "python",
   "nbconvert_exporter": "python",
   "pygments_lexer": "ipython3",
   "version": "3.9.2"
  },
  "orig_nbformat": 4
 },
 "nbformat": 4,
 "nbformat_minor": 2
}
