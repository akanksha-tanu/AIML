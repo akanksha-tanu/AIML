{
 "cells": [
  {
   "cell_type": "code",
   "execution_count": 2,
   "metadata": {},
   "outputs": [
    {
     "name": "stdout",
     "output_type": "stream",
     "text": [
      "Confusion matrix : \n",
      " [[130  30]\n",
      " [ 25  45]]\n",
      "Accuracy Score : \n",
      " 0.7608695652173914\n",
      "Confusion matrix : \n",
      "               precision    recall  f1-score   support\n",
      "\n",
      "           0       0.84      0.81      0.83       160\n",
      "           1       0.60      0.64      0.62        70\n",
      "\n",
      "    accuracy                           0.76       230\n",
      "   macro avg       0.72      0.73      0.72       230\n",
      "weighted avg       0.77      0.76      0.76       230\n",
      "\n"
     ]
    }
   ],
   "source": [
    "from sklearn import metrics\n",
    "from sklearn.naive_bayes import GaussianNB\n",
    "from sklearn.model_selection import train_test_split\n",
    "import pandas as pd\n",
    "\n",
    "data=pd.read_csv(\"../lab6.csv\")\n",
    "x=data.iloc[:,:-1]\n",
    "y=data.iloc[:,-1]\n",
    "\n",
    "xtrain,xtest,ytrain,ytest=train_test_split(x,y,test_size=0.3)\n",
    "model=GaussianNB()\n",
    "model.fit(xtrain,ytrain)\n",
    "pred=model.predict(xtest)\n",
    "\n",
    "print(\"Confusion matrix : \\n\",metrics.confusion_matrix(pred,ytest))\n",
    "print(\"Accuracy Score : \\n\",metrics.accuracy_score(pred,ytest))\n",
    "print(\"Confusion matrix : \\n\",metrics.classification_report(pred,ytest))\n"
   ]
  }
 ],
 "metadata": {
  "interpreter": {
   "hash": "7f4850813c4f0ef5aeb287b6cd55218b48106b6d1432cc204eb5d2c6cab844e1"
  },
  "kernelspec": {
   "display_name": "Python 3.9.2 64-bit",
   "language": "python",
   "name": "python3"
  },
  "language_info": {
   "codemirror_mode": {
    "name": "ipython",
    "version": 3
   },
   "file_extension": ".py",
   "mimetype": "text/x-python",
   "name": "python",
   "nbconvert_exporter": "python",
   "pygments_lexer": "ipython3",
   "version": "3.9.2"
  },
  "orig_nbformat": 4
 },
 "nbformat": 4,
 "nbformat_minor": 2
}
