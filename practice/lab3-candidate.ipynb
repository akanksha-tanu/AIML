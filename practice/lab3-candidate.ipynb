{
 "cells": [
  {
   "cell_type": "code",
   "execution_count": 1,
   "metadata": {},
   "outputs": [
    {
     "name": "stdout",
     "output_type": "stream",
     "text": [
      "Specific hypothesis in after example  1  is :  ['Sunny', 'Warm', 'Normal', 'Strong', 'Warm', 'Same']\n",
      "Generic hypothesis in after example  1  is :  [['?', '?', '?', '?', '?', '?']]\n",
      "Specific hypothesis in after example  2  is :  ['Sunny', 'Warm', '?', 'Strong', 'Warm', 'Same']\n",
      "Generic hypothesis in after example  2  is :  [['?', '?', '?', '?', '?', '?']]\n",
      "Specific hypothesis in after example  3  is :  ['Sunny', 'Warm', '?', 'Strong', 'Warm', 'Same']\n",
      "Generic hypothesis in after example  3  is :  [['Sunny', '?', '?', '?', '?', '?'], ['?', 'Warm', '?', '?', '?', '?'], ['?', '?', '?', '?', '?', 'Same']]\n",
      "Specific hypothesis in after example  4  is :  ['Sunny', 'Warm', '?', 'Strong', '?', '?']\n",
      "Generic hypothesis in after example  4  is :  [['Sunny', '?', '?', '?', '?', '?'], ['?', 'Warm', '?', '?', '?', '?']]\n",
      "Final Specific hypothesis is :  ['Sunny', 'Warm', '?', 'Strong', '?', '?']\n",
      "Final Generic hypothesis is :  [['Sunny', '?', '?', '?', '?', '?'], ['?', 'Warm', '?', '?', '?', '?']]\n"
     ]
    }
   ],
   "source": [
    "data=[]\n",
    "with open(\"../lab3.csv\") as f:\n",
    "    for line in f:\n",
    "        data.append(line.strip().split(','))\n",
    "# print(data)\n",
    "rows=len(data)\n",
    "cols=len(data[0])\n",
    "shypo=['0']*(cols-1)\n",
    "ghypo=[['?']*(cols-1)]\n",
    "\n",
    "for x in range(1,rows):\n",
    "    example=data[x]\n",
    "    if(example[-1]=='1'):\n",
    "        for i in range(0, cols-1):\n",
    "            if(example[i]==shypo[i]):\n",
    "                continue\n",
    "            shypo[i]='?' if shypo[i]!='0' else example[i]\n",
    "            for g in ghypo:\n",
    "                if g[i]!='?' and shypo[i]=='?':\n",
    "                    ghypo.remove(g)\n",
    "    elif(example[-1]=='0'):\n",
    "        ghypo.clear()\n",
    "        for i in range(0,cols-1):\n",
    "            if shypo[i]!=example[i] and shypo[i]!='?':\n",
    "                temp=['?']*i+[shypo[i]]+['?']*(cols-2-i)\n",
    "                if temp not in ghypo:\n",
    "                    ghypo.append(temp)\n",
    "    print(\"Specific hypothesis in after example \",x,\" is : \",shypo)\n",
    "    print(\"Generic hypothesis in after example \",x,\" is : \",ghypo)\n",
    "print(\"Final Specific hypothesis is : \",shypo)\n",
    "print(\"Final Generic hypothesis is : \",ghypo)\n",
    "\n"
   ]
  }
 ],
 "metadata": {
  "interpreter": {
   "hash": "7f4850813c4f0ef5aeb287b6cd55218b48106b6d1432cc204eb5d2c6cab844e1"
  },
  "kernelspec": {
   "display_name": "Python 3.9.2 64-bit",
   "language": "python",
   "name": "python3"
  },
  "language_info": {
   "codemirror_mode": {
    "name": "ipython",
    "version": 3
   },
   "file_extension": ".py",
   "mimetype": "text/x-python",
   "name": "python",
   "nbconvert_exporter": "python",
   "pygments_lexer": "ipython3",
   "version": "3.9.2"
  },
  "orig_nbformat": 4
 },
 "nbformat": 4,
 "nbformat_minor": 2
}
