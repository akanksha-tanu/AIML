{
 "cells": [
  {
   "cell_type": "code",
   "execution_count": 7,
   "metadata": {},
   "outputs": [
    {
     "name": "stdout",
     "output_type": "stream",
     "text": [
      "Path is :  ['A', 'C', 'D']\n",
      "Path is :  ['A', 'C', 'D', 'F']\n"
     ]
    }
   ],
   "source": [
    "\n",
    "\n",
    "def heuristic(v):\n",
    "    hdist={\n",
    "        'A':3,\n",
    "        'B':2,\n",
    "        'C':1,\n",
    "        'D':3,\n",
    "        'E':1,\n",
    "        'F':0\n",
    "    }\n",
    "    return hdist[v]\n",
    "\n",
    "def getNeighbours(v):\n",
    "    if v in graph:\n",
    "        return graph[v]\n",
    "    else:\n",
    "        return None\n",
    "\n",
    "def astar(start,stop):\n",
    "    openset=set(start)\n",
    "    closeset=set()\n",
    "    g={}\n",
    "    parent={}\n",
    "    g[start]=0\n",
    "    parent[start]=start\n",
    "\n",
    "    while len(openset)>0:\n",
    "        n=None\n",
    "        for v in openset:\n",
    "            if n==None or g[v]+heuristic(v)<g[n]+heuristic(n):\n",
    "                n=v\n",
    "        for (m,weight) in getNeighbours(n):\n",
    "            if m not in closeset and m not in openset:\n",
    "                openset.add(m)\n",
    "                parent[m]=n\n",
    "                g[m]=g[n]+weight\n",
    "            elif g[m]>g[n]+weight:\n",
    "                g[m]=g[n]+weight\n",
    "                parent[m]=n\n",
    "                if m in closeset:\n",
    "                    closeset.remove(m)\n",
    "                    openset.add(m)\n",
    "        if(n==stop):\n",
    "            path=[]\n",
    "            while parent[n]!=n:\n",
    "                path.append(n)\n",
    "                n=parent[n]\n",
    "            path.append(start)\n",
    "            path.reverse()\n",
    "            print(\"Path is : \",path)\n",
    "            return\n",
    "        openset.remove(n)\n",
    "        closeset.add(n)\n",
    "    print(\"NO path exits\")\n",
    "    return None\n",
    "\n",
    "\n",
    "\n",
    "graph={\n",
    "    'A':[('B',3),('C',7)],\n",
    "    'B':[('D',10)],\n",
    "    'C':[('D',2)],\n",
    "    'D':[('F',5)],\n",
    "    'E':[],\n",
    "    'F':[]\n",
    "}\n",
    "astar('A','D')\n",
    "astar('A','F')"
   ]
  }
 ],
 "metadata": {
  "interpreter": {
   "hash": "7f4850813c4f0ef5aeb287b6cd55218b48106b6d1432cc204eb5d2c6cab844e1"
  },
  "kernelspec": {
   "display_name": "Python 3.9.2 64-bit",
   "language": "python",
   "name": "python3"
  },
  "language_info": {
   "codemirror_mode": {
    "name": "ipython",
    "version": 3
   },
   "file_extension": ".py",
   "mimetype": "text/x-python",
   "name": "python",
   "nbconvert_exporter": "python",
   "pygments_lexer": "ipython3",
   "version": "3.9.2"
  },
  "orig_nbformat": 4
 },
 "nbformat": 4,
 "nbformat_minor": 2
}
