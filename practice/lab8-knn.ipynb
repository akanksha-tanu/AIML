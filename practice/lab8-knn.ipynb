{
 "cells": [
  {
   "cell_type": "code",
   "execution_count": 1,
   "metadata": {},
   "outputs": [
    {
     "name": "stdout",
     "output_type": "stream",
     "text": [
      "------------------------------------------------------------------------------\n",
      "original value                      predicted value             correct/wrong\n",
      "------------------------------------------------------------------------------\n",
      "Iris-versicolor                     Iris-versicolor                   correct\n",
      "Iris-setosa                             Iris-setosa                   correct\n",
      "Iris-versicolor                     Iris-versicolor                   correct\n",
      "Iris-virginica                       Iris-virginica                   correct\n",
      "Iris-versicolor                     Iris-versicolor                   correct\n",
      "Iris-virginica                      Iris-versicolor                     wrong\n",
      "Iris-versicolor                     Iris-versicolor                   correct\n",
      "Iris-setosa                             Iris-setosa                   correct\n",
      "Iris-virginica                       Iris-virginica                   correct\n",
      "Iris-virginica                       Iris-virginica                   correct\n",
      "Iris-setosa                             Iris-setosa                   correct\n",
      "Iris-virginica                       Iris-virginica                   correct\n",
      "Iris-setosa                             Iris-setosa                   correct\n",
      "Iris-versicolor                     Iris-versicolor                   correct\n",
      "Iris-versicolor                     Iris-versicolor                   correct\n",
      "Iris-setosa                             Iris-setosa                   correct\n",
      "Iris-versicolor                     Iris-versicolor                   correct\n",
      "Iris-setosa                             Iris-setosa                   correct\n",
      "Iris-virginica                       Iris-virginica                   correct\n",
      "Iris-versicolor                     Iris-versicolor                   correct\n",
      "Iris-setosa                             Iris-setosa                   correct\n",
      "Iris-versicolor                     Iris-versicolor                   correct\n",
      "Iris-versicolor                     Iris-versicolor                   correct\n",
      "Iris-versicolor                     Iris-versicolor                   correct\n",
      "Iris-versicolor                     Iris-versicolor                   correct\n",
      "Iris-virginica                       Iris-virginica                   correct\n",
      "Iris-virginica                       Iris-virginica                   correct\n",
      "Iris-setosa                             Iris-setosa                   correct\n",
      "Iris-setosa                             Iris-setosa                   correct\n",
      "Iris-virginica                       Iris-virginica                   correct\n",
      "Accuracy score: 0.9666666666666667\n"
     ]
    }
   ],
   "source": [
    "from sklearn import metrics\n",
    "from sklearn.neighbors import KNeighborsClassifier\n",
    "from sklearn.model_selection import train_test_split\n",
    "import pandas as pd\n",
    "\n",
    "\n",
    "data=pd.read_csv('../lab8.csv')\n",
    "x=data.iloc[:,:-1]\n",
    "y=data.iloc[:,-1]\n",
    "\n",
    "xtrain,xtest,ytrain,ytest=train_test_split(x,y,test_size=0.2)\n",
    "model=KNeighborsClassifier(n_neighbors=5).fit(xtrain,ytrain)\n",
    "pred=model.predict(xtest)\n",
    "\n",
    "print(\"------------------------------------------------------------------------------\")\n",
    "print(\"%-25s %25s %25s\"%('original value','predicted value','correct/wrong'))\n",
    "print(\"------------------------------------------------------------------------------\")\n",
    "\n",
    "i=0\n",
    "for l in ytest:\n",
    "    if(l==pred[i]):\n",
    "        print(\"%-25s %25s %25s\"%(l,pred[i],'correct'))\n",
    "    else:\n",
    "        print(\"%-25s %25s %25s\"%(l,pred[i],'wrong'))\n",
    "    i+=1\n",
    "\n",
    "print(\"Accuracy score:\",metrics.accuracy_score(pred,ytest))\n"
   ]
  }
 ],
 "metadata": {
  "interpreter": {
   "hash": "7f4850813c4f0ef5aeb287b6cd55218b48106b6d1432cc204eb5d2c6cab844e1"
  },
  "kernelspec": {
   "display_name": "Python 3.9.2 64-bit",
   "language": "python",
   "name": "python3"
  },
  "language_info": {
   "codemirror_mode": {
    "name": "ipython",
    "version": 3
   },
   "file_extension": ".py",
   "mimetype": "text/x-python",
   "name": "python",
   "nbconvert_exporter": "python",
   "pygments_lexer": "ipython3",
   "version": "3.9.2"
  },
  "orig_nbformat": 4
 },
 "nbformat": 4,
 "nbformat_minor": 2
}
