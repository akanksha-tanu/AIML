{
 "cells": [
  {
   "cell_type": "code",
   "execution_count": 2,
   "metadata": {},
   "outputs": [
    {
     "name": "stdout",
     "output_type": "stream",
     "text": [
      "Initial Specific Hypothesis is =  ['0', '0', '0', '0', '0', '0']\n",
      "Initial General Hypothesis is =  [['?', '?', '?', '?', '?', '?']]\n",
      "S Hypothesis after row  1  =  ['0', '0', '0', '0', '0', '0']\n",
      "G Hypothesis after row  1  =  [['0', '?', '?', '?', '?', '?'], ['?', '0', '?', '?', '?', '?'], ['?', '?', '0', '?', '?', '?'], ['?', '?', '?', '0', '?', '?'], ['?', '?', '?', '?', '0', '?'], ['?', '?', '?', '?', '?', '0']]\n",
      "S Hypothesis after row  2  =  ['Sunny', 'Warm', 'Normal', 'Strong', 'Warm', 'Same']\n",
      "G Hypothesis after row  2  =  [['0', '?', '?', '?', '?', '?'], ['?', '0', '?', '?', '?', '?'], ['?', '?', '0', '?', '?', '?'], ['?', '?', '?', '0', '?', '?'], ['?', '?', '?', '?', '0', '?'], ['?', '?', '?', '?', '?', '0']]\n",
      "S Hypothesis after row  3  =  ['Sunny', 'Warm', '?', 'Strong', 'Warm', 'Same']\n",
      "G Hypothesis after row  3  =  [['0', '?', '?', '?', '?', '?'], ['?', '0', '?', '?', '?', '?'], ['?', '?', '?', '0', '?', '?'], ['?', '?', '?', '?', '0', '?'], ['?', '?', '?', '?', '?', '0']]\n",
      "S Hypothesis after row  4  =  ['Sunny', 'Warm', '?', 'Strong', 'Warm', 'Same']\n",
      "G Hypothesis after row  4  =  [['Sunny', '?', '?', '?', '?', '?'], ['?', 'Warm', '?', '?', '?', '?'], ['?', '?', '?', '?', '?', 'Same']]\n",
      "S Hypothesis after row  5  =  ['Sunny', 'Warm', '?', 'Strong', '?', '?']\n",
      "G Hypothesis after row  5  =  [['Sunny', '?', '?', '?', '?', '?'], ['?', 'Warm', '?', '?', '?', '?']]\n",
      "Final SHypothesis  ['Sunny', 'Warm', '?', 'Strong', '?', '?']\n",
      "Final GHypothesis  [['Sunny', '?', '?', '?', '?', '?'], ['?', 'Warm', '?', '?', '?', '?']]\n"
     ]
    }
   ],
   "source": [
    "dataarr = []\n",
    "with open('lab3.csv') as f:\n",
    "    for line in f:\n",
    "        dataarr.append(line.strip().split(','))\n",
    "# print(dataarr)\n",
    "rows = len(dataarr)\n",
    "cols = len(dataarr[0])\n",
    "shypo = ['0']*(cols-1)\n",
    "ghypo = [['?']*(cols-1)]\n",
    "print(\"Initial Specific Hypothesis is = \", shypo)\n",
    "print(\"Initial General Hypothesis is = \", ghypo)\n",
    "\n",
    "for x in range(1, rows):\n",
    "    lst = dataarr[x]\n",
    "    if lst[cols-1] == \"1\":\n",
    "        for i in range(0, cols-1):\n",
    "            if shypo[i] == lst[i]:\n",
    "                continue\n",
    "            shypo[i] = lst[i] if shypo[i] == '0' else '?'\n",
    "            for g in ghypo:\n",
    "                if g[i] != '?' and shypo[i] == '?':#specific has become more general \n",
    "                    ghypo.remove(g)               #than the corresponding generic hypothesis\n",
    "    elif lst[cols-1] == \"0\":\n",
    "        ghypo.clear()\n",
    "        for i in range(0, cols-1):\n",
    "            if lst[i] != shypo[i] and shypo[i] != '?':\n",
    "                temp_list = ['?']*i + [shypo[i]] + (['?']*(cols-2-i))\n",
    "                if temp_list not in ghypo:\n",
    "                    ghypo.append(temp_list)\n",
    "    print(\"S Hypothesis after row \", x, \" = \", shypo)\n",
    "    print(\"G Hypothesis after row \", x, \" = \", ghypo)\n",
    "print(\"Final SHypothesis \", shypo)\n",
    "print(\"Final GHypothesis \", ghypo)"
   ]
  }
 ],
 "metadata": {
  "interpreter": {
   "hash": "7f4850813c4f0ef5aeb287b6cd55218b48106b6d1432cc204eb5d2c6cab844e1"
  },
  "kernelspec": {
   "display_name": "Python 3.9.2 64-bit",
   "language": "python",
   "name": "python3"
  },
  "language_info": {
   "codemirror_mode": {
    "name": "ipython",
    "version": 3
   },
   "file_extension": ".py",
   "mimetype": "text/x-python",
   "name": "python",
   "nbconvert_exporter": "python",
   "pygments_lexer": "ipython3",
   "version": "3.9.2"
  },
  "orig_nbformat": 4
 },
 "nbformat": 4,
 "nbformat_minor": 2
}
