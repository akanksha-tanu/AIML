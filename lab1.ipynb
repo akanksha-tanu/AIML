{
 "cells": [
  {
   "cell_type": "code",
   "execution_count": 20,
   "metadata": {},
   "outputs": [
    {
     "name": "stdout",
     "output_type": "stream",
     "text": [
      " path is  ['A', 'C', 'D']\n",
      "No path exist\n"
     ]
    }
   ],
   "source": [
    "def heuristic(v):\n",
    "    hdist={\n",
    "        'A':3,\n",
    "        'B':6,\n",
    "        'C':4,\n",
    "        'D':4,\n",
    "        'E':0\n",
    "        }\n",
    "    return hdist[v]\n",
    "\n",
    "def getneighbors(v):\n",
    "    if v in graph:\n",
    "        return graph[v]\n",
    "    else:\n",
    "        return None\n",
    "        \n",
    "def astar(start,stop):\n",
    "    openset=set(start)\n",
    "    closedset=set()\n",
    "    g={}\n",
    "    parent={}\n",
    "    g[start]=0\n",
    "    parent[start]=start\n",
    "    while len(openset)>0:\n",
    "        n=None\n",
    "        for v in openset:\n",
    "            if n==None or g[v]+heuristic(v)<g[n]+heuristic(n):\n",
    "                n=v\n",
    "        # if n==stop or graph[n]==None:\n",
    "        #         pass\n",
    "        # else:\n",
    "        for (m,weight) in getneighbors(n):\n",
    "                if m not in closedset and m not in openset:\n",
    "                    openset.add(m)\n",
    "                    parent[m]=n\n",
    "                    g[m]=g[n]+weight\n",
    "                elif g[m]>g[n]+weight:\n",
    "                    g[m]=g[n]+weight\n",
    "                    parent[m]=n\n",
    "                    if m in closedset:\n",
    "                        closedset.remove(m)\n",
    "                        openset.add(m)\n",
    "        # if n==None:\n",
    "        #         print(\"No path exist\")\n",
    "        #         break\n",
    "        if n==stop:\n",
    "                path=[]\n",
    "                while parent[n]!=n:\n",
    "                    path.append(n)\n",
    "                    n=parent[n]\n",
    "                path.append(start)\n",
    "                path.reverse()\n",
    "                print(\" path is \",path)\n",
    "                return \n",
    "        openset.remove(n)\n",
    "        closedset.add(n)\n",
    "    print(\"No path exist\")\n",
    "    return None\n",
    "graph={\n",
    "      'A':[('B',2),('C',4)], \n",
    "      'B':[('D',9)],\n",
    "      'C':[('D',2)],\n",
    "      'D':[],\n",
    "      'E':[]\n",
    "       }\n",
    "astar('A','D')\n",
    "astar('A','E')"
   ]
  }
 ],
 "metadata": {
  "interpreter": {
   "hash": "7f4850813c4f0ef5aeb287b6cd55218b48106b6d1432cc204eb5d2c6cab844e1"
  },
  "kernelspec": {
   "display_name": "Python 3.9.2 64-bit",
   "language": "python",
   "name": "python3"
  },
  "language_info": {
   "name": "python",
   "version": "3.9.2"
  },
  "orig_nbformat": 4
 },
 "nbformat": 4,
 "nbformat_minor": 2
}
