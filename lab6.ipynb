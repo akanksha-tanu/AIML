{
 "cells": [
  {
   "cell_type": "code",
   "execution_count": 31,
   "metadata": {},
   "outputs": [
    {
     "name": "stdout",
     "output_type": "stream",
     "text": [
      "Confusion : \n",
      " [[93 20]\n",
      " [ 8 33]]\n",
      "Report :                precision    recall  f1-score   support\n",
      "\n",
      "           0       0.92      0.82      0.87       113\n",
      "           1       0.62      0.80      0.70        41\n",
      "\n",
      "    accuracy                           0.82       154\n",
      "   macro avg       0.77      0.81      0.79       154\n",
      "weighted avg       0.84      0.82      0.82       154\n",
      "\n",
      "Accuracy :  0.8181818181818182\n"
     ]
    }
   ],
   "source": [
    "from sklearn import metrics\n",
    "from sklearn.naive_bayes import GaussianNB\n",
    "from sklearn.model_selection import train_test_split\n",
    "import pandas as pd\n",
    "\n",
    "data = pd.read_csv('lab6.csv')\n",
    "x = data.iloc[:, :-1].values\n",
    "y = data.iloc[:, -1].values\n",
    "# print(x,x.values)\n",
    "\n",
    "xtrain, xtest, ytrain, ytest = train_test_split(x, y, test_size=0.2)\n",
    "\n",
    "model = GaussianNB()\n",
    "model.fit(xtrain, ytrain)\n",
    "predicted = model.predict(xtest)\n",
    "\n",
    "print(\"Confusion : \\n\", metrics.confusion_matrix(predicted, ytest))\n",
    "print(\"Report : \", metrics.classification_report(predicted, ytest))\n",
    "print(\"Accuracy : \", metrics.accuracy_score(predicted, ytest))"
   ]
  },
  {
   "cell_type": "code",
   "execution_count": 52,
   "metadata": {},
   "outputs": [
    {
     "name": "stdout",
     "output_type": "stream",
     "text": [
      "Confusion matrix \n",
      " [[128  35]\n",
      " [ 21  46]]\n",
      "Report \n",
      "               precision    recall  f1-score   support\n",
      "\n",
      "           0       0.86      0.79      0.82       163\n",
      "           1       0.57      0.69      0.62        67\n",
      "\n",
      "    accuracy                           0.76       230\n",
      "   macro avg       0.71      0.74      0.72       230\n",
      "weighted avg       0.77      0.76      0.76       230\n",
      "\n",
      "Accuracy \n",
      " 0.7565217391304347\n"
     ]
    }
   ],
   "source": [
    "from sklearn import metrics\n",
    "from sklearn.model_selection import train_test_split\n",
    "from sklearn.naive_bayes import GaussianNB\n",
    "import pandas as pd\n",
    "\n",
    "data=pd.read_csv(\"lab6.csv\")\n",
    "x=data.iloc[:,:-1]\n",
    "y=data.iloc[:,-1]\n",
    "\n",
    "xtrain,xtest,ytrain,ytest=train_test_split(x,y,test_size=0.3)\n",
    "model=GaussianNB()\n",
    "model.fit(xtrain,ytrain)\n",
    "pred=model.predict(xtest)\n",
    "\n",
    "print(\"Confusion matrix \\n\",metrics.confusion_matrix(pred,ytest))\n",
    "print(\"Report \\n\",metrics.classification_report(pred,ytest))\n",
    "print(\"Accuracy \\n\",metrics.accuracy_score(pred,ytest))"
   ]
  }
 ],
 "metadata": {
  "interpreter": {
   "hash": "156a3d582c043bd1b6999820d42102393140778565f5ea0562afffebea33a7e3"
  },
  "kernelspec": {
   "display_name": "Python 3.9.10 64-bit (windows store)",
   "language": "python",
   "name": "python3"
  },
  "language_info": {
   "codemirror_mode": {
    "name": "ipython",
    "version": 3
   },
   "file_extension": ".py",
   "mimetype": "text/x-python",
   "name": "python",
   "nbconvert_exporter": "python",
   "pygments_lexer": "ipython3",
   "version": "3.9.2"
  },
  "orig_nbformat": 4
 },
 "nbformat": 4,
 "nbformat_minor": 2
}
